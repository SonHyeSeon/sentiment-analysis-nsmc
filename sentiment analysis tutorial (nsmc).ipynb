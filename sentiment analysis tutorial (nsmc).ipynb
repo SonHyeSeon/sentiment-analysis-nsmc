{
 "cells": [
  {
   "cell_type": "code",
   "execution_count": 1,
   "metadata": {},
   "outputs": [],
   "source": [
    "import numpy as np\n",
    "import pandas as pd\n",
    "import os\n",
    "import matplotlib.pyplot as plt\n",
    "import seaborn as sns\n",
    "from wordcloud import WordCloud\n",
    "%matplotlib inline"
   ]
  },
  {
   "cell_type": "markdown",
   "metadata": {},
   "source": [
    "# 1. 데이터 전처리 및 분석"
   ]
  },
  {
   "cell_type": "markdown",
   "metadata": {},
   "source": [
    "#### 데이터 불러오기 및 분석하기"
   ]
  },
  {
   "cell_type": "code",
   "execution_count": 2,
   "metadata": {},
   "outputs": [
    {
     "name": "stdout",
     "output_type": "stream",
     "text": [
      "파일 크기 : \n",
      "ratings_test.txt              4.89MB\n",
      "ratings.txt                   19.52MB\n",
      "ratings_train.txt             14.63MB\n"
     ]
    }
   ],
   "source": [
    "DATA_IN_PATH='./data/' # 데이터셋 파일이 저장된 위치\n",
    "print(\"파일 크기 : \")\n",
    "for file in os.listdir(DATA_IN_PATH):\n",
    "    if 'txt' in file: # txt가 포함된 파일(.txt 파일) 이름 및 크기 출력\n",
    "        print(file.ljust(30)\n",
    "              +str(round(os.path.getsize(DATA_IN_PATH+file)/1000000,2))\n",
    "              +\"MB\")"
   ]
  },
  {
   "cell_type": "code",
   "execution_count": 3,
   "metadata": {},
   "outputs": [
    {
     "data": {
      "text/html": [
       "<div>\n",
       "<style scoped>\n",
       "    .dataframe tbody tr th:only-of-type {\n",
       "        vertical-align: middle;\n",
       "    }\n",
       "\n",
       "    .dataframe tbody tr th {\n",
       "        vertical-align: top;\n",
       "    }\n",
       "\n",
       "    .dataframe thead th {\n",
       "        text-align: right;\n",
       "    }\n",
       "</style>\n",
       "<table border=\"1\" class=\"dataframe\">\n",
       "  <thead>\n",
       "    <tr style=\"text-align: right;\">\n",
       "      <th></th>\n",
       "      <th>id</th>\n",
       "      <th>document</th>\n",
       "      <th>label</th>\n",
       "    </tr>\n",
       "  </thead>\n",
       "  <tbody>\n",
       "    <tr>\n",
       "      <th>0</th>\n",
       "      <td>9976970</td>\n",
       "      <td>아 더빙.. 진짜 짜증나네요 목소리</td>\n",
       "      <td>0</td>\n",
       "    </tr>\n",
       "    <tr>\n",
       "      <th>1</th>\n",
       "      <td>3819312</td>\n",
       "      <td>흠...포스터보고 초딩영화줄....오버연기조차 가볍지 않구나</td>\n",
       "      <td>1</td>\n",
       "    </tr>\n",
       "    <tr>\n",
       "      <th>2</th>\n",
       "      <td>10265843</td>\n",
       "      <td>너무재밓었다그래서보는것을추천한다</td>\n",
       "      <td>0</td>\n",
       "    </tr>\n",
       "    <tr>\n",
       "      <th>3</th>\n",
       "      <td>9045019</td>\n",
       "      <td>교도소 이야기구먼 ..솔직히 재미는 없다..평점 조정</td>\n",
       "      <td>0</td>\n",
       "    </tr>\n",
       "    <tr>\n",
       "      <th>4</th>\n",
       "      <td>6483659</td>\n",
       "      <td>사이몬페그의 익살스런 연기가 돋보였던 영화!스파이더맨에서 늙어보이기만 했던 커스틴 ...</td>\n",
       "      <td>1</td>\n",
       "    </tr>\n",
       "  </tbody>\n",
       "</table>\n",
       "</div>"
      ],
      "text/plain": [
       "         id                                           document  label\n",
       "0   9976970                                아 더빙.. 진짜 짜증나네요 목소리      0\n",
       "1   3819312                  흠...포스터보고 초딩영화줄....오버연기조차 가볍지 않구나      1\n",
       "2  10265843                                  너무재밓었다그래서보는것을추천한다      0\n",
       "3   9045019                      교도소 이야기구먼 ..솔직히 재미는 없다..평점 조정      0\n",
       "4   6483659  사이몬페그의 익살스런 연기가 돋보였던 영화!스파이더맨에서 늙어보이기만 했던 커스틴 ...      1"
      ]
     },
     "execution_count": 3,
     "metadata": {},
     "output_type": "execute_result"
    }
   ],
   "source": [
    "train_data=pd.read_csv(DATA_IN_PATH+'ratings_train.txt', \n",
    "                       header=0, delimiter='\\t',quoting=3)\n",
    "train_data.head()"
   ]
  },
  {
   "cell_type": "code",
   "execution_count": 4,
   "metadata": {},
   "outputs": [
    {
     "name": "stdout",
     "output_type": "stream",
     "text": [
      "전체 학습 데이터의 개수: 150000\n"
     ]
    }
   ],
   "source": [
    "print('전체 학습 데이터의 개수: {}'.format(len(train_data)))"
   ]
  },
  {
   "cell_type": "code",
   "execution_count": 5,
   "metadata": {},
   "outputs": [
    {
     "data": {
      "text/plain": [
       "0    19\n",
       "1    33\n",
       "2    17\n",
       "3    29\n",
       "4    61\n",
       "Name: document, dtype: int64"
      ]
     },
     "execution_count": 5,
     "metadata": {},
     "output_type": "execute_result"
    }
   ],
   "source": [
    "# 각 데이터의 리뷰 길이 확인\n",
    "train_length=train_data['document'].astype(str).apply(len)\n",
    "train_length.head()"
   ]
  },
  {
   "cell_type": "code",
   "execution_count": 6,
   "metadata": {},
   "outputs": [
    {
     "name": "stderr",
     "output_type": "stream",
     "text": [
      "<ipython-input-6-69fd8824a1fe>:14: MatplotlibDeprecationWarning: The 'nonposy' parameter of __init__() has been renamed 'nonpositive' since Matplotlib 3.3; support for the old name will be dropped two minor releases later.\n",
      "  plt.yscale('log', nonposy='clip')\n"
     ]
    },
    {
     "data": {
      "text/plain": [
       "Text(0, 0.5, 'Number of review')"
      ]
     },
     "execution_count": 6,
     "metadata": {},
     "output_type": "execute_result"
    },
    {
     "data": {
      "image/png": "[encoded data removed]",
      "text/plain": [
       "<Figure size 864x360 with 1 Axes>"
      ]
     },
     "metadata": {
      "needs_background": "light"
     },
     "output_type": "display_data"
    }
   ],
   "source": [
    "# 전체 데이터의 리뷰 길이 히스토그램 그리기\n",
    "\n",
    "# 그래프에 대한 이미지 크기 선언\n",
    "# figsize: (가로, 세로) 형태의 튜플로 입력\n",
    "plt.figure(figsize=(12,5))\n",
    "\n",
    "# 히스토그램 선언\n",
    "# bins : 히스토그램 값에 대한 버킷 범위\n",
    "# range : x축 값의 범위\n",
    "# alpha : 그래프 색상 투명도\n",
    "# color : 그래프 색상\n",
    "# label : 그래프에 대한 라벨\n",
    "plt.hist(train_length, bins=200, alpha=0.5, color='r', label='word')\n",
    "plt.yscale('log', nonposy='clip')\n",
    "\n",
    "# 그래프 제목\n",
    "plt.title('Log-Histogram of length of review')\n",
    "\n",
    "# 그래프 x축 라벨\n",
    "plt.xlabel('Length of review')\n",
    "\n",
    "# 그래프 y축 라벨\n",
    "plt.ylabel('Number of review')"
   ]
  },
  {
   "cell_type": "code",
   "execution_count": 7,
   "metadata": {},
   "outputs": [
    {
     "name": "stdout",
     "output_type": "stream",
     "text": [
      "리뷰 길이 최댓값: 158\n",
      "리뷰 길이 최솟값: 1\n",
      "리뷰 길이 평균값: 35.24\n",
      "리뷰 길이 표준편차: 29.58\n",
      "리뷰 길이 중간값: 27.0\n",
      "리뷰 길이 제1사분위: 16.0\n",
      "리뷰 길이 제3사분위: 42.0\n"
     ]
    }
   ],
   "source": [
    "print('리뷰 길이 최댓값: {}'.format(np.max(train_length)))\n",
    "print('리뷰 길이 최솟값: {}'.format(np.min(train_length)))\n",
    "print('리뷰 길이 평균값: {:.2f}'.format(np.mean(train_length)))\n",
    "print('리뷰 길이 표준편차: {:.2f}'.format(np.std(train_length)))\n",
    "print('리뷰 길이 중간값: {}'.format(np.median(train_length)))\n",
    "\n",
    "# 사분위에 대한 경우 0~100 스케일로 되어 있음\n",
    "print('리뷰 길이 제1사분위: {}'.format(np.percentile(train_length, 25)))\n",
    "print('리뷰 길이 제3사분위: {}'.format(np.percentile(train_length, 75)))"
   ]
  },
  {
   "cell_type": "code",
   "execution_count": 8,
   "metadata": {},
   "outputs": [
    {
     "data": {
      "text/plain": [
       "{'whiskers': [<matplotlib.lines.Line2D at 0x7fac70372d30>,\n",
       "  <matplotlib.lines.Line2D at 0x7fac7037e0d0>],\n",
       " 'caps': [<matplotlib.lines.Line2D at 0x7fac7037e430>,\n",
       "  <matplotlib.lines.Line2D at 0x7fac7037e790>],\n",
       " 'boxes': [<matplotlib.lines.Line2D at 0x7fac703729d0>],\n",
       " 'medians': [<matplotlib.lines.Line2D at 0x7fac7037eaf0>],\n",
       " 'fliers': [<matplotlib.lines.Line2D at 0x7fac703871f0>],\n",
       " 'means': [<matplotlib.lines.Line2D at 0x7fac7037ee50>]}"
      ]
     },
     "execution_count": 8,
     "metadata": {},
     "output_type": "execute_result"
    },
    {
     "data": {
      "image/png": "[encoded data removed]",
      "text/plain": [
       "<Figure size 864x360 with 1 Axes>"
      ]
     },
     "metadata": {
      "needs_background": "light"
     },
     "output_type": "display_data"
    }
   ],
   "source": [
    "plt.figure(figsize=(12,5))\n",
    "\n",
    "# 박스 플롯 생성\n",
    "# 첫 번째 파라미터: 여러 분포에 대한 데이터 리스트를 입력\n",
    "# labels : 입력한 데이터에 대한 라벨\n",
    "# shomeans : 평균값을 마크함\n",
    "plt.boxplot(train_length,\n",
    "           labels=['counts'],\n",
    "           showmeans=True)"
   ]
  },
  {
   "cell_type": "code",
   "execution_count": 9,
   "metadata": {
    "scrolled": false
   },
   "outputs": [
    {
     "data": {
      "text/plain": [
       "['아 더빙.. 진짜 짜증나네요 목소리',\n",
       " '흠...포스터보고 초딩영화줄....오버연기조차 가볍지 않구나',\n",
       " '너무재밓었다그래서보는것을추천한다']"
      ]
     },
     "execution_count": 9,
     "metadata": {},
     "output_type": "execute_result"
    }
   ],
   "source": [
    "train_review = [review for review in train_data['document'] if type(review) is str]\n",
    "train_review[0:3]"
   ]
  },
  {
   "cell_type": "code",
   "execution_count": 10,
   "metadata": {},
   "outputs": [
    {
     "data": {
      "image/png": "[encoded data removed]",
      "text/plain": [
       "<Figure size 432x288 with 1 Axes>"
      ]
     },
     "metadata": {
      "needs_background": "light"
     },
     "output_type": "display_data"
    }
   ],
   "source": [
    "wordcloud=WordCloud(font_path=DATA_IN_PATH+'NanumGothic.ttf').generate(' '.join(train_review))\n",
    "\n",
    "plt.imshow(wordcloud, interpolation='bilinear')\n",
    "plt.axis('off')\n",
    "plt.show()"
   ]
  },
  {
   "cell_type": "code",
   "execution_count": 11,
   "metadata": {},
   "outputs": [
    {
     "name": "stderr",
     "output_type": "stream",
     "text": [
      "/Users/hyeseon/opt/anaconda3/lib/python3.8/site-packages/seaborn/_decorators.py:36: FutureWarning: Pass the following variable as a keyword arg: x. From version 0.12, the only valid positional argument will be `data`, and passing other arguments without an explicit keyword will result in an error or misinterpretation.\n",
      "  warnings.warn(\n"
     ]
    },
    {
     "data": {
      "text/plain": [
       "<AxesSubplot:xlabel='label', ylabel='count'>"
      ]
     },
     "execution_count": 11,
     "metadata": {},
     "output_type": "execute_result"
    },
    {
     "data": {
      "image/png": "[encoded data removed]",
      "text/plain": [
       "<Figure size 432x216 with 1 Axes>"
      ]
     },
     "metadata": {
      "needs_background": "light"
     },
     "output_type": "display_data"
    }
   ],
   "source": [
    "fig, zxe=plt.subplots(ncols=1)\n",
    "fig.set_size_inches(6,3)\n",
    "sns.countplot(train_data['label'])"
   ]
  },
  {
   "cell_type": "code",
   "execution_count": 12,
   "metadata": {},
   "outputs": [
    {
     "name": "stdout",
     "output_type": "stream",
     "text": [
      "긍정 리뷰 개수: 74827\n",
      "부정 리뷰 개수: 75173\n"
     ]
    }
   ],
   "source": [
    "print(\"긍정 리뷰 개수: {}\".format(train_data['label'].value_counts()[1]))\n",
    "print(\"부정 리뷰 개수: {}\".format(train_data['label'].value_counts()[0]))"
   ]
  },
  {
   "cell_type": "code",
   "execution_count": 13,
   "metadata": {},
   "outputs": [
    {
     "name": "stderr",
     "output_type": "stream",
     "text": [
      "<ipython-input-13-73b2e8e3f758>:7: MatplotlibDeprecationWarning: The 'nonposy' parameter of __init__() has been renamed 'nonpositive' since Matplotlib 3.3; support for the old name will be dropped two minor releases later.\n",
      "  plt.yscale('log', nonposy='clip')\n"
     ]
    },
    {
     "data": {
      "text/plain": [
       "Text(0, 0.5, 'Number of reviews')"
      ]
     },
     "execution_count": 13,
     "metadata": {},
     "output_type": "execute_result"
    },
    {
     "data": {
      "image/png": "[encoded data removed]",
      "text/plain": [
       "<Figure size 1080x720 with 1 Axes>"
      ]
     },
     "metadata": {
      "needs_background": "light"
     },
     "output_type": "display_data"
    }
   ],
   "source": [
    "train_word_counts = train_data['document'].astype(str) \\\n",
    "                    .apply(lambda x:len(x.split(' ')))\n",
    "\n",
    "plt.figure(figsize=(15,10))\n",
    "plt.hist(train_word_counts, bins=50, facecolor='r', label='train')\n",
    "plt.title('Log-Histogram of word count in review')\n",
    "plt.yscale('log', nonposy='clip')\n",
    "plt.legend()\n",
    "plt.xlabel('Number of words', fontsize=15)\n",
    "plt.ylabel('Number of reviews', fontsize=15)"
   ]
  },
  {
   "cell_type": "code",
   "execution_count": 14,
   "metadata": {},
   "outputs": [
    {
     "name": "stdout",
     "output_type": "stream",
     "text": [
      "리뷰 단어 개수 최댓값: 41\n",
      "리뷰 단어 개수 최솟값: 1\n",
      "리뷰 단어 개수 평균값: 7.58\n",
      "리뷰 단어 개수 표준편차: 6.51\n",
      "리뷰 단어 개수 중간값: 6.0\n",
      "리뷰 단어 개수 제1사분위: 3.0\n",
      "리뷰 단어 개수 제3사분위: 9.0\n"
     ]
    }
   ],
   "source": [
    "print('리뷰 단어 개수 최댓값: {}'.format(np.max(train_word_counts)))\n",
    "print('리뷰 단어 개수 최솟값: {}'.format(np.min(train_word_counts)))\n",
    "print('리뷰 단어 개수 평균값: {:.2f}'.format(np.mean(train_word_counts)))\n",
    "print('리뷰 단어 개수 표준편차: {:.2f}'.format(np.std(train_word_counts)))\n",
    "print('리뷰 단어 개수 중간값: {}'.format(np.median(train_word_counts)))\n",
    "\n",
    "# 사분위에 대한 경우 0~100 스케일로 되어 있음\n",
    "print('리뷰 단어 개수 제1사분위: {}'.format(np.percentile(train_word_counts, 25)))\n",
    "print('리뷰 단어 개수 제3사분위: {}'.format(np.percentile(train_word_counts, 75)))"
   ]
  },
  {
   "cell_type": "code",
   "execution_count": 15,
   "metadata": {},
   "outputs": [
    {
     "name": "stdout",
     "output_type": "stream",
     "text": [
      "물음표로 끝나는 질문: 8.25%\n",
      "마침표로 끝나는 질문: 51.76%\n"
     ]
    }
   ],
   "source": [
    "qmarks = np.mean(train_data['document'].astype(str) \\\n",
    "                .apply(lambda x: '?' in x)) # 문장이 물음표로 끝나는 경우\n",
    "\n",
    "fullstop = np.mean(train_data['document'].astype(str) \\\n",
    "                .apply(lambda x: '.' in x)) # 문장이 마침표로 끝나는 경우\n",
    "\n",
    "print('물음표로 끝나는 질문: {:.2f}%'.format(qmarks * 100))\n",
    "print('마침표로 끝나는 질문: {:.2f}%'.format(fullstop*100))"
   ]
  },
  {
   "cell_type": "markdown",
   "metadata": {},
   "source": [
    "#### 데이터 전처리"
   ]
  },
  {
   "cell_type": "code",
   "execution_count": 16,
   "metadata": {},
   "outputs": [],
   "source": [
    "import numpy as np\n",
    "import pandas as pd\n",
    "import re\n",
    "import json\n",
    "from konlpy.tag import Okt"
   ]
  },
  {
   "cell_type": "code",
   "execution_count": 17,
   "metadata": {},
   "outputs": [
    {
     "data": {
      "text/plain": [
       "0                                  아 더빙.. 진짜 짜증나네요 목소리\n",
       "1                    흠...포스터보고 초딩영화줄....오버연기조차 가볍지 않구나\n",
       "2                                    너무재밓었다그래서보는것을추천한다\n",
       "3                        교도소 이야기구먼 ..솔직히 재미는 없다..평점 조정\n",
       "4    사이몬페그의 익살스런 연기가 돋보였던 영화!스파이더맨에서 늙어보이기만 했던 커스틴 ...\n",
       "Name: document, dtype: object"
      ]
     },
     "execution_count": 17,
     "metadata": {},
     "output_type": "execute_result"
    }
   ],
   "source": [
    "train_data['document'][:5]"
   ]
  },
  {
   "cell_type": "code",
   "execution_count": 18,
   "metadata": {},
   "outputs": [
    {
     "name": "stdout",
     "output_type": "stream",
     "text": [
      "아 더빙 진짜 짜증나네요 목소리\n"
     ]
    }
   ],
   "source": [
    "review_text = re.sub(\"[^가-힣ㄱ-ㅎㅏ-ㅣ \\\\s]\",\"\", train_data['document'][0])\n",
    "print(review_text)"
   ]
  },
  {
   "cell_type": "code",
   "execution_count": 19,
   "metadata": {},
   "outputs": [
    {
     "name": "stdout",
     "output_type": "stream",
     "text": [
      "['아', '더빙', '진짜', '짜증나다', '목소리']\n"
     ]
    }
   ],
   "source": [
    "okt = Okt()\n",
    "review_text = okt.morphs(review_text, stem=True)\n",
    "print(review_text)"
   ]
  },
  {
   "cell_type": "code",
   "execution_count": 20,
   "metadata": {},
   "outputs": [
    {
     "data": {
      "text/plain": [
       "['더빙', '진짜', '짜증나다', '목소리']"
      ]
     },
     "execution_count": 20,
     "metadata": {},
     "output_type": "execute_result"
    }
   ],
   "source": [
    "stop_words = set(['은', '는', '이', '가', '하', '아', '것', '들', '의', '있', '되', '수', '보', '주', '등', '한'])\n",
    "clean_review = [token for token in review_text if not token in stop_words]\n",
    "clean_review"
   ]
  },
  {
   "cell_type": "code",
   "execution_count": 21,
   "metadata": {},
   "outputs": [],
   "source": [
    "def preprocessing(review, okt, remove_stopwords=False, stop_words=[]):\n",
    "    # 함수의 인자는 다음과 같다.\n",
    "    # review : 전처리할 텍스트\n",
    "    # okt: okt 객체를 반복적으로 생성하지 않고 미리 생성한 후 인자로 받는다.\n",
    "    # remove_stopword : 불용어를 제거할지 여부 선택. 기본값은 False\n",
    "    # stop_word : 불용어 사전은 사용자가 직접 입력해야 함. 기본값은 빈 리스트\n",
    "    \n",
    "    # 1. 한글 및 공백을 제외한 문자를 모두 제거\n",
    "    review_text = re.sub(\"[^가-힣ㄱ-ㅎㅏ-ㅣ\\\\s]\",\"\", review)\n",
    "    \n",
    "    # 2. okt 객체를 활용해 형태소 단위로 나누기(토크나이징)\n",
    "    word_review = okt.morphs(review_text, stem=True)\n",
    "    \n",
    "    if remove_stopwords:\n",
    "        # 불용어 제거(선택적)\n",
    "        word_review = [token for token in word_review if not token in stop_words]\n",
    "        \n",
    "    \n",
    "    return word_review"
   ]
  },
  {
   "cell_type": "code",
   "execution_count": 22,
   "metadata": {},
   "outputs": [
    {
     "data": {
      "text/plain": [
       "[['더빙', '진짜', '짜증나다', '목소리'],\n",
       " ['흠', '포스터', '보고', '초딩', '영화', '줄', '오버', '연기', '조차', '가볍다', '않다'],\n",
       " ['너', '무재', '밓었', '다그', '래서', '보다', '추천', '다'],\n",
       " ['교도소', '이야기', '구먼', '솔직하다', '재미', '없다', '평점', '조정']]"
      ]
     },
     "execution_count": 22,
     "metadata": {},
     "output_type": "execute_result"
    }
   ],
   "source": [
    "stop_words = ['은', '는', '이', '가', '하', '아', '것', '들', '의', '있', '되', '수', '보', '주', '등', '한']\n",
    "okt = Okt()\n",
    "clean_train_review_okt = []\n",
    "\n",
    "for review in train_data['document']:\n",
    "    # 비어 있는 데이터에서 멈추지 않도록 문자열인 경우에만 진행\n",
    "    if type(review) == str:\n",
    "        clean_train_review_okt.append(preprocessing(review, okt, remove_stopwords=True, stop_words=stop_words))\n",
    "    else:\n",
    "        clean_train_review_okt.append([]) # string이 아니면 비어있는 값 추가\n",
    "        \n",
    "\n",
    "clean_train_review_okt[:4] # 앞에 4개 데이터 확인"
   ]
  },
  {
   "cell_type": "code",
   "execution_count": 23,
   "metadata": {},
   "outputs": [
    {
     "data": {
      "text/plain": [
       "[['굳다', 'ㅋ'],\n",
       " [],\n",
       " ['뭐', '야', '평점', '나쁘다', '않다', '점', '짜다', '리', '더', '더욱', '아니다'],\n",
       " ['지루하다', '않다', '완전', '막장', '임', '돈', '주다', '보기', '에는']]"
      ]
     },
     "execution_count": 23,
     "metadata": {},
     "output_type": "execute_result"
    }
   ],
   "source": [
    "# stop_words = ['은', '는', '이', '가', '하', '아', '것', '들', '의', '있', '되', '수', '보', '주', '등', '한']\n",
    "# okt = Okt()\n",
    "\n",
    "test_data = pd.read_csv(DATA_IN_PATH+'ratings_test.txt', header=0, delimiter='\\t',\n",
    "                       quoting=3)\n",
    "clean_test_review_okt = []\n",
    "\n",
    "for review in test_data['document']:\n",
    "    # 비어 있는 데이터에서 멈추지 않도록 문자열인 경우에만 진행\n",
    "    if type(review) == str:\n",
    "        clean_test_review_okt.append(preprocessing(review, okt, remove_stopwords=True, stop_words=stop_words))\n",
    "    else:\n",
    "        clean_test_review_okt.append([]) # string이 아니면 비어있는 값 추가\n",
    "        \n",
    "clean_test_review_okt[:4] # 앞에 4개 데이터 확인"
   ]
  },
  {
   "cell_type": "code",
   "execution_count": 24,
   "metadata": {},
   "outputs": [],
   "source": [
    "from konlpy.tag import Mecab\n",
    "mecab = Mecab()\n",
    "def preprocessing_mecab(review, okt, remove_stopwords=False, stop_words=[]):\n",
    "    # 함수의 인자는 다음과 같다.\n",
    "    # review : 전처리할 텍스트\n",
    "    # okt: okt 객체를 반복적으로 생성하지 않고 미리 생성한 후 인자로 받는다.\n",
    "    # remove_stopword : 불용어를 제거할지 여부 선택. 기본값은 False\n",
    "    # stop_word : 불용어 사전은 사용자가 직접 입력해야 함. 기본값은 빈 리스트\n",
    "    \n",
    "    # 1. 한글 및 공백을 제외한 문자를 모두 제거\n",
    "    review_text = re.sub(\"[^가-힣ㄱ-ㅎㅏ-ㅣ\\\\s]\",\"\", review)\n",
    "    \n",
    "    # 2. okt 객체를 활용해 형태소 단위로 나누기(토크나이징)\n",
    "#     word_review = okt.morphs(review_text, stem=True)\n",
    "    word_review = okt.morphs(review_text)\n",
    "    \n",
    "    \n",
    "    if remove_stopwords:\n",
    "        # 불용어 제거(선택적)\n",
    "        word_review = [token for token in word_review if not token in stop_words]\n",
    "        \n",
    "    \n",
    "    return word_review"
   ]
  },
  {
   "cell_type": "code",
   "execution_count": 25,
   "metadata": {},
   "outputs": [
    {
     "data": {
      "text/plain": [
       "[['아름답다'], ['아름답다'], ['아름답다']]"
      ]
     },
     "execution_count": 25,
     "metadata": {},
     "output_type": "execute_result"
    }
   ],
   "source": [
    "[\n",
    "    Okt().morphs(\"아름답다\", stem=True),\n",
    "    Okt().morphs(\"아름다워\", stem=True),\n",
    "    Okt().morphs(\"아름답구나\", stem=True)\n",
    "]"
   ]
  },
  {
   "cell_type": "code",
   "execution_count": 26,
   "metadata": {},
   "outputs": [
    {
     "data": {
      "text/plain": [
       "[['아름답', '다'], ['아름다워'], ['아름답', '구나']]"
      ]
     },
     "execution_count": 26,
     "metadata": {},
     "output_type": "execute_result"
    }
   ],
   "source": [
    "[\n",
    "    Mecab().morphs(\"아름답다\"),\n",
    "    Mecab().morphs(\"아름다워\"),\n",
    "    Mecab().morphs(\"아름답구나\")\n",
    "]"
   ]
  },
  {
   "cell_type": "code",
   "execution_count": 27,
   "metadata": {},
   "outputs": [
    {
     "data": {
      "text/plain": [
       "[['더', '빙', '진짜', '짜증', '나', '네요', '목소리'],\n",
       " ['흠', '포스터', '보고', '초딩', '영화', '줄', '오버', '연기', '조차', '가볍', '지', '않', '구나'],\n",
       " ['너무', '재', '밓었다그래서보는것을추천한다'],\n",
       " ['교도소', '이야기', '구먼', '솔직히', '재미', '없', '다', '평점', '조정']]"
      ]
     },
     "execution_count": 27,
     "metadata": {},
     "output_type": "execute_result"
    }
   ],
   "source": [
    "stop_words = ['은', '는', '이', '가', '하', '아', '것', '들', '의', '있', '되', '수', '보', '주', '등', '한']\n",
    "# okt = Okt()\n",
    "okt = mecab\n",
    "clean_train_review = []\n",
    "\n",
    "for review in train_data['document']:\n",
    "    # 비어 있는 데이터에서 멈추지 않도록 문자열인 경우에만 진행\n",
    "    if type(review) == str:\n",
    "        clean_train_review.append(preprocessing_mecab(review, okt, remove_stopwords=True, stop_words=stop_words))\n",
    "    else:\n",
    "        clean_train_review.append([]) # string이 아니면 비어있는 값 추가\n",
    "        \n",
    "\n",
    "clean_train_review[:4] # 앞에 4개 데이터 확인"
   ]
  },
  {
   "cell_type": "code",
   "execution_count": 28,
   "metadata": {},
   "outputs": [
    {
     "data": {
      "text/plain": [
       "[['굳', 'ㅋ'],\n",
       " [],\n",
       " ['뭐', '야', '평점', '나쁘', '진', '않', '지만', '점', '짜리', '더더욱', '아니', '잖아'],\n",
       " ['지루', '지', '않', '은데', '완전', '막장', '임', '돈', '고', '기', '에']]"
      ]
     },
     "execution_count": 28,
     "metadata": {},
     "output_type": "execute_result"
    }
   ],
   "source": [
    "# stop_words = ['은', '는', '이', '가', '하', '아', '것', '들', '의', '있', '되', '수', '보', '주', '등', '한']\n",
    "# okt = Okt()\n",
    "\n",
    "test_data = pd.read_csv(DATA_IN_PATH+'ratings_test.txt', header=0, delimiter='\\t',\n",
    "                       quoting=3)\n",
    "clean_test_review = []\n",
    "\n",
    "for review in test_data['document']:\n",
    "    # 비어 있는 데이터에서 멈추지 않도록 문자열인 경우에만 진행\n",
    "    if type(review) == str:\n",
    "        clean_test_review.append(preprocessing_mecab(review, okt, remove_stopwords=True, stop_words=stop_words))\n",
    "    else:\n",
    "        clean_test_review.append([]) # string이 아니면 비어있는 값 추가\n",
    "        \n",
    "clean_test_review[:4] # 앞에 4개 데이터 확인"
   ]
  },
  {
   "cell_type": "code",
   "execution_count": null,
   "metadata": {},
   "outputs": [],
   "source": [
    "from tensorflow.keras.preprocessing.sequence import pad_sequences\n",
    "from tensorflow.keras.preprocessing.text import Tokenizer"
   ]
  },
  {
   "cell_type": "code",
   "execution_count": null,
   "metadata": {},
   "outputs": [],
   "source": [
    "tokenizer = Tokenizer()\n",
    "tokenizer.fit_on_testx(clean_train_review)\n",
    "train_sequences = tokenizer.texts_to_sequences(clean_train_review)\n",
    "test_sequences = tokenizer.texts_to_sequences(clean_test_review)\n",
    "\n",
    "word_vocab = tokenizer.word_index # 단어 사전 형태\n",
    "\n",
    "MAX_SEQUENCE_LENGTH = 8 # 문장 최대 길이\n",
    "\n",
    "# 학습데이터를 벡터화\n",
    "train_inputs = pad_sequences(train_sequences, maxlen=MAX_SEQUENCE_LENGTH, padding='post')\n",
    "train_labels = np.array(train_data['label']) # 학습 데이터의 라벨\n",
    "\n",
    "# 평가 데이터를 벡터화\n",
    "test_inputs = pad_sequences(test_sequences, maxlen=MAX_SEQUENCE_LENGTH, padding='post')\n",
    "test_labels = np.array(test_data['label']) # 평가 데이터의 라벨\n"
   ]
  },
  {
   "cell_type": "code",
   "execution_count": null,
   "metadata": {},
   "outputs": [],
   "source": [
    "DEFAULT_PATH = './'\n",
    "DATA_IN_PATH='./data/'\n",
    "TRAIN_INPUT_DATA = 'nsmc_train_input.npy'\n",
    "TRAIN_LABEL_DATA = 'nsmc_train_label.npy'\n",
    "TEST_INPUT_DATA = 'nsmc_test_input.npy'\n",
    "TEST_LABEL_DATA = 'nsmc_test_label.npy'\n",
    "DATA_CONFIGS = 'data_configs.json'\n",
    "\n",
    "data_configs = {}\n",
    "\n",
    "data_configs['vocab'] = word_vocab\n",
    "data_configs['vocab_size'] = len(word_vocab) + 1 # vocab size 추가\n",
    "\n",
    "import os\n",
    "# 저장하는 디렉토리가 존재하지 않으면 생성\n",
    "if not os.path.exists(DEFAULT_PATH+DATA_IN_PATH):\n",
    "    os.makedirs(DEFAULT_PATH+DATA_IN_PATH)\n",
    "    \n",
    "# 전처리된 학습 데이터를 넘파이 형태로 저장\n",
    "np.save(open(DEFAULT_PATH+DATA_IN_PATH + TRAIN_INPUT_DATA, 'wb'), train_inputs)\n",
    "np.save(open(DEFAULT_PATH+DATA_IN_PATH + TRAIN_LABEL_DATA,'wb'), train_labels)\n",
    "\n",
    "# 전처리된 평가 데이터를 넘파이 형태로 저장\n",
    "np.save(open(DEFAULT_PATH+DATA_IN_PATH + TEST_INPUT_DATA, 'wb'), test_inputs)\n",
    "np.save(open(DEFAULT_PATH+DATA_IN_PATH + TEST_LABEL_DATA,'wb'), test_labels)\n",
    "\n",
    "# 데이터 사전을  json형태로 저장\n",
    "json.dump(data_configs, open(DEFAULT_PATH+DATA_IN_PATH+DATA_CONFIGS, 'w'),\n",
    "         ensure_ascii=False)"
   ]
  },
  {
   "cell_type": "markdown",
   "metadata": {},
   "source": [
    "# 2. 모델링"
   ]
  },
  {
   "cell_type": "markdown",
   "metadata": {},
   "source": [
    "#### 학습 데이터 불러오기"
   ]
  },
  {
   "cell_type": "code",
   "execution_count": null,
   "metadata": {},
   "outputs": [],
   "source": [
    "import tensorflow as tf\n",
    "from tensorflow.keras.preprocessing.sequence import pad_sequences\n",
    "from tensorflow.keras.callbacks import EarlyStopping, ModelCheckpoint\n",
    "from tensorflow.keras import layers\n",
    "\n",
    "import numpy as np\n",
    "import pandas as pd\n",
    "import matplotlib.pyplot as plt\n",
    "import os\n",
    "import json\n",
    "\n",
    "from tqdm import tqdm"
   ]
  },
  {
   "cell_type": "code",
   "execution_count": null,
   "metadata": {},
   "outputs": [],
   "source": [
    "DATA_IN_PATH='./data/'\n",
    "DATA_OUT_PATH='./output/'\n",
    "INPUT_TRAIN_DATA = 'nsmc_train_input.npy'\n",
    "LABEL_TRAIN_DATA = 'nsmc_train_label.npy'\n",
    "DATA_CONFIGS = 'data_configs.json'\n",
    "\n",
    "train_input = np.load(open(DATA_IN_PATH + INPUT_TRAIN_DATA, 'rb'))\n",
    "train_input = pad_sequences(train_input, maxlen=train_input.shape[1])\n",
    "train_label = np.load(open(DATA_IN_PATH+LABEL_TRAIN_DATA, 'rb'))\n",
    "prepro_configs = json.load(open(DATA_IN_PATH+DATA_CONFIGS, 'r'))"
   ]
  },
  {
   "cell_type": "markdown",
   "metadata": {},
   "source": [
    "#### 파라미터 정의"
   ]
  },
  {
   "cell_type": "code",
   "execution_count": null,
   "metadata": {},
   "outputs": [],
   "source": [
    "model_name = 'cnn_classifier_kr'\n",
    "BATCH_SIZE = 512\n",
    "NUM_EPOCHS = 2\n",
    "VALID_SPLIT = 0.1\n",
    "MAX_LEN = train_input.shape[1]\n",
    "\n",
    "kargs = {'model_name': model_name,\n",
    "         'vocab_size': prepro_configs['vocab_size'],\n",
    "         'embedding_size' : 128,\n",
    "         'num_filters' : 100,\n",
    "         'dropout_rate' : 0.5,\n",
    "         'hidden_dimension': 250,\n",
    "         'output_dimension':1\n",
    "        }"
   ]
  },
  {
   "cell_type": "markdown",
   "metadata": {},
   "source": [
    "#### 모델 구현"
   ]
  },
  {
   "cell_type": "code",
   "execution_count": null,
   "metadata": {},
   "outputs": [],
   "source": [
    "class CNNCLASSIFIER(tf.keras.Model):\n",
    "    \n",
    "    def __init__(self, **kargs):\n",
    "        super(CNNClassifier, self).__init__(name=kargs['model_name'])\n",
    "        self.embedding = layers.Embedding(input_dim=kargs['vocab_size'],\n",
    "                                         output_dim=kargs['embedding_size'])\n",
    "        self.conv_list = [layers.Conv1D(filters = kargs['num_filters'],\n",
    "                                       kernel_size = kernel_size,\n",
    "                                       padding='valid',\n",
    "                                       activation=tf.keras.activations.relu,\n",
    "                                       \n",
    "                                       kernel_constraint = tf.keras.constraints.MaxNorm(max_value=3.)) \\\n",
    "                          for kernel_size in [3,4,5]]\n",
    "        \n",
    "        self.dropout = layers.Dropout(kargs['droupout_rate'])\n",
    "        self.fc1 = layers.Dense(units = kargs['hidden_dimension'],\n",
    "                               activation = tf.keras.activations.relu,\n",
    "                               kernel_constraint = tf.keras.constrains.MaxNorm(max_value=3.))\n",
    "        self.fc2 = layers.dense(units = kargs['output_dimension'],\n",
    "                               activation=tf.keras.activations.sigmoid,\n",
    "                               kernel_constraint = tf.keras.constrains.MaxNorm(max_value=3.))\n",
    "        \n",
    "        def call(self, x):\n",
    "            x = self.embedding(x)\n",
    "            x = self.dropout(x)\n",
    "            x = tf.concat([self.pooling(conv(x)) for conv in self.conv_list], axis=-1)\n",
    "            x = self.fc1(x)\n",
    "            x = self.fc2(x)\n",
    "            \n",
    "            return x"
   ]
  },
  {
   "cell_type": "markdown",
   "metadata": {},
   "source": [
    "#### 모델 학습"
   ]
  },
  {
   "cell_type": "code",
   "execution_count": null,
   "metadata": {},
   "outputs": [],
   "source": [
    "model = CNNClassifier(**kargs)\n",
    "\n",
    "model.compile(optimizer = tf.keras.optimizers.Adam(),\n",
    "             loss = tf.keras.losses.BinaryCrossentropy(),\n",
    "             metrics = [tf.keras.metrics.BinaryAccuracy(name='accuracy')])"
   ]
  },
  {
   "cell_type": "code",
   "execution_count": null,
   "metadata": {},
   "outputs": [],
   "source": [
    "earlystop_callback = EarlyStopping(monitor('val_accuracy', min_delta=0.0001, patience = 2))\n",
    "\n",
    "checkpoint_path = DATA_OUT_PATH + model_name + '/weights.h5'\n",
    "checkpoint_dir = os.path.dirname(checkpoint_path)\n",
    "\n",
    "# Create path if exists\n",
    "if os.path.exists(checkpoint_dir):\n",
    "    print(\"{} - Folder already exists \\n\".format(checkpoint_dir))\n",
    "else:\n",
    "    os.makedirs(checkpoint_dir, exist_ok=True)\n",
    "    print(\"{} - Folder create complete \\n\".format(checkpoint_dir))\n",
    "    \n",
    "cp_callback = ModelCheckpoint(checkpoint_path, monitor = 'var_accuracy', \n",
    "                              verbose=1, save_best_only=True,\n",
    "                              save_weights_only=True)\n",
    "\n",
    "history = model.fit(train_input, train_label, batch_ssize=BATCH_SIZE, epochs = NUM_EPOCHS,\n",
    "                   validation_split=VALID_SPLIT, callbacks = [earlystop_callback, cp_callback])"
   ]
  },
  {
   "cell_type": "code",
   "execution_count": null,
   "metadata": {},
   "outputs": [],
   "source": [
    "plot_graphs(history, 'loss')"
   ]
  },
  {
   "cell_type": "code",
   "execution_count": null,
   "metadata": {},
   "outputs": [],
   "source": [
    "plot_graphs(history, 'accuracy')"
   ]
  },
  {
   "cell_type": "markdown",
   "metadata": {},
   "source": [
    "#### 모델 테스트(평가)"
   ]
  },
  {
   "cell_type": "code",
   "execution_count": null,
   "metadata": {},
   "outputs": [],
   "source": [
    "DATA_OUT_PATH='./output/'\n",
    "INPUT_TEST_DATA = 'nsmc_test_input.npy'\n",
    "LABEL_TEST_DATA = 'nsmc_test_label.npy'\n",
    "SAVE_FILE_NM = 'weights.h5'\n",
    "\n",
    "test_input = np.load(open(DATA_IN_PATH + INPUT_TEST_DATA, 'rb'))\n",
    "test_input = pad_sequences(test_input, maxlen = test_input.shape[1])\n",
    "test_label_data = np.load(open(DATA_IN_PATH+LABEL_TEST_DATA, 'rb'))"
   ]
  },
  {
   "cell_type": "code",
   "execution_count": null,
   "metadata": {},
   "outputs": [],
   "source": [
    "model.load_weights(os.path.join(DATA_OUT_PATH, model_name, SAVE_FILE_NM))\n",
    "model.evaluate(test_input, test_label_data)"
   ]
  },
  {
   "cell_type": "code",
   "execution_count": null,
   "metadata": {},
   "outputs": [],
   "source": []
  }
 ],
 "metadata": {
  "kernelspec": {
   "display_name": "Python 3",
   "language": "python",
   "name": "python3"
  },
  "language_info": {
   "codemirror_mode": {
    "name": "ipython",
    "version": 3
   },
   "file_extension": ".py",
   "mimetype": "text/x-python",
   "name": "python",
   "nbconvert_exporter": "python",
   "pygments_lexer": "ipython3",
   "version": "3.8.5"
  }
 },
 "nbformat": 4,
 "nbformat_minor": 4
}
